{
 "cells": [
  {
   "cell_type": "markdown",
   "metadata": {},
   "source": [
    "# Iris Dataset Testing"
   ]
  },
  {
   "cell_type": "code",
   "execution_count": 1,
   "metadata": {},
   "outputs": [],
   "source": [
    "import sys  \n",
    "sys.path.insert(0, '../')\n",
    "import deep_forest\n",
    "import preprocess\n",
    "import torch as th\n",
    "from torch import nn as nn\n",
    "import matplotlib.pyplot as plt\n",
    "%matplotlib inline\n",
    "from math import pi\n",
    "import seaborn as sns\n",
    "from tqdm import tqdm\n",
    "sns.set_theme(\"notebook\")\n",
    "sns.set_style('whitegrid')"
   ]
  },
  {
   "cell_type": "markdown",
   "metadata": {},
   "source": [
    "## Generate Data\n",
    "The data is the UCl iris dataset. Here, 100% of the data is used for training."
   ]
  },
  {
   "cell_type": "code",
   "execution_count": 2,
   "metadata": {},
   "outputs": [],
   "source": [
    "train_data, train_labels, test_data, test_labels = preprocess.get_data(100)"
   ]
  },
  {
   "cell_type": "markdown",
   "metadata": {},
   "source": [
    "## Deep Forest\n",
    "Here, the model is instantiated (using cuda or the CPU) and trained."
   ]
  },
  {
   "cell_type": "code",
   "execution_count": 3,
   "metadata": {},
   "outputs": [],
   "source": [
    "model = deep_forest.DeepForest(100, 2, 4, 0.5, 10)\n",
    "device = th.device(\"cuda\" if th.cuda.is_available() else \"cpu\")\n",
    "model = model.to(device)\n",
    "train_data = train_data.to(device)\n",
    "train_labels = train_labels.to(device)"
   ]
  },
  {
   "cell_type": "code",
   "execution_count": 4,
   "metadata": {},
   "outputs": [
    {
     "name": "stderr",
     "output_type": "stream",
     "text": [
      "  0%|          | 0/2500 [00:00<?, ?it/s]Implicit dimension choice for softmax has been deprecated. Change the call to include dim=X as an argument.\n",
      "EPOCH 2499 || Acc: tensor(0.9533) || Loss: tensor([618.0315], grad_fn=<AddBackward0>): 100%|██████████| 2500/2500 [23:46<00:00,  1.75it/s]"
     ]
    },
    {
     "name": "stdout",
     "output_type": "stream",
     "text": [
      "\n",
      "==============\n",
      "FINAL ACC: tensor(0.9533)\n"
     ]
    },
    {
     "name": "stderr",
     "output_type": "stream",
     "text": [
      "\n"
     ]
    }
   ],
   "source": [
    "optimizer = th.optim.Adam(model.parameters())\n",
    "pbar = tqdm(range(2500))\n",
    "for i in pbar:\n",
    "    model.populate_best(train_data[:, :], train_labels[:])\n",
    "    optimizer.zero_grad()\n",
    "    \n",
    "    loss = model.loss(train_data[:, :], train_labels[:], device)\n",
    "    loss.backward()\n",
    "    optimizer.step()\n",
    "    \n",
    "    pbar.set_description(\"EPOCH %d || Acc: %s || Loss: %s\" % (i, str(th.mean((model.forward(train_data[:, :], device) == train_labels[:]).float())), str(loss)))\n",
    "    \n",
    "print(\"\\n==============\\nFINAL ACC: %s\" % str(th.mean((model.forward(train_data[:, :], device) == train_labels[:]).float())))"
   ]
  },
  {
   "cell_type": "code",
   "execution_count": 6,
   "metadata": {},
   "outputs": [
    {
     "name": "stderr",
     "output_type": "stream",
     "text": [
      "  0%|          | 0/100 [00:00<?, ?it/s]Implicit dimension choice for softmax has been deprecated. Change the call to include dim=X as an argument.\n",
      "100%|██████████| 100/100 [02:52<00:00,  1.73s/it]"
     ]
    },
    {
     "name": "stdout",
     "output_type": "stream",
     "text": [
      "\n",
      "defaultdict(<function DeepForest.__init__.<locals>.<lambda> at 0x7fb6b950f2f0>, {2: 0.3712712597497444, 0: 0.16501402181890648, 1: 0.10088812008724544, 3: 0.3628265983441037})\n"
     ]
    },
    {
     "name": "stderr",
     "output_type": "stream",
     "text": [
      "\n"
     ]
    }
   ],
   "source": [
    "imp = model.compute_importance(train_data)\n",
    "print()\n",
    "print(imp)"
   ]
  },
  {
   "cell_type": "code",
   "execution_count": 7,
   "metadata": {},
   "outputs": [
    {
     "data": {
      "text/plain": [
       "Text(0.5, 1.0, 'Iris Deep Forest Importance')"
      ]
     },
     "execution_count": 7,
     "metadata": {},
     "output_type": "execute_result"
    },
    {
     "data": {
      "image/png": "[encoded data removed]",
      "text/plain": [
       "<Figure size 432x288 with 1 Axes>"
      ]
     },
     "metadata": {},
     "output_type": "display_data"
    }
   ],
   "source": [
    "import pandas as pd\n",
    "data = pd.DataFrame({\"feat\": list(imp.keys()), \"imp\": list(imp.values())})\n",
    "sns.barplot(x=\"feat\", y=\"imp\", data=data).set_title(\"Iris Deep Forest Importance\")"
   ]
  },
  {
   "cell_type": "markdown",
   "metadata": {},
   "source": [
    "# MLP Baseline\n",
    "Here, a baseline feedforward is used on thr Iris dataset for comparison."
   ]
  },
  {
   "cell_type": "code",
   "execution_count": 9,
   "metadata": {},
   "outputs": [
    {
     "name": "stderr",
     "output_type": "stream",
     "text": [
      "EPOCH 999 || Acc: tensor(0.9533) || Loss: tensor(0.5705, grad_fn=<NllLossBackward>): 100%|██████████| 1000/1000 [01:54<00:00,  8.77it/s]"
     ]
    },
    {
     "name": "stdout",
     "output_type": "stream",
     "text": [
      "\n",
      "==============\n",
      "FINAL ACC: tensor(0.9867)\n"
     ]
    },
    {
     "name": "stderr",
     "output_type": "stream",
     "text": [
      "\n"
     ]
    }
   ],
   "source": [
    "mlp = nn.Sequential(\n",
    "    nn.Linear(4, 15),\n",
    "    nn.LeakyReLU(),\n",
    "    nn.Linear(15, 15),\n",
    "    nn.LeakyReLU(),\n",
    "    nn.Linear(15, 3),\n",
    "    nn.Softmax()\n",
    ")\n",
    "\n",
    "optimizer = th.optim.Adam(mlp.parameters())\n",
    "pbar = tqdm(range(1000))\n",
    "for i in pbar:\n",
    "    optimizer.zero_grad()\n",
    "\n",
    "    preds = mlp(train_data[:, :])\n",
    "    loss = nn.functional.cross_entropy(preds, (train_labels[:].type(th.LongTensor)).to(device))\n",
    "    loss.backward()\n",
    "    optimizer.step()\n",
    "\n",
    "    pbar.set_description(\"EPOCH %d || Acc: %s || Loss: %s\" % (i, str(th.mean((th.argmax(mlp(train_data), 1) == train_labels).float())), str(loss)))\n",
    "\n",
    "print(\"\\n\\n==============\\nFINAL ACC: %s\" % str(th.mean((th.argmax(mlp(train_data[:]), 1) == train_labels[:]).float())))\n"
   ]
  },
  {
   "cell_type": "markdown",
   "metadata": {},
   "source": [
    "# Standard Random Forest"
   ]
  },
  {
   "cell_type": "code",
   "execution_count": 11,
   "metadata": {},
   "outputs": [
    {
     "name": "stdout",
     "output_type": "stream",
     "text": [
      "Accuracy: 0.96\n"
     ]
    }
   ],
   "source": [
    "from sklearn.ensemble import RandomForestClassifier\n",
    "clf = RandomForestClassifier(max_depth=2)\n",
    "clf.fit(train_data[:, :].numpy(), train_labels[:].numpy())\n",
    "print(\"Accuracy: \" + str(clf.score(train_data[:, :].numpy(), train_labels[:].numpy())))"
   ]
  },
  {
   "cell_type": "code",
   "execution_count": 13,
   "metadata": {},
   "outputs": [
    {
     "data": {
      "text/plain": [
       "Text(0.5, 1.0, 'Iris Random Forest Importance')"
      ]
     },
     "execution_count": 13,
     "metadata": {},
     "output_type": "execute_result"
    },
    {
     "data": {
      "image/png": "[encoded data removed]",
      "text/plain": [
       "<Figure size 432x288 with 1 Axes>"
      ]
     },
     "metadata": {},
     "output_type": "display_data"
    }
   ],
   "source": [
    "data = pd.DataFrame({\"feat\": list(range(4)), \"imp\": clf.feature_importances_})\n",
    "sns.barplot(x=\"feat\", y=\"imp\", data=data).set_title(\"Iris Random Forest Importance\")"
   ]
  },
  {
   "cell_type": "code",
   "execution_count": null,
   "metadata": {},
   "outputs": [],
   "source": []
  }
 ],
 "metadata": {
  "kernelspec": {
   "display_name": "Python 3",
   "language": "python",
   "name": "python3"
  },
  "language_info": {
   "codemirror_mode": {
    "name": "ipython",
    "version": 3
   },
   "file_extension": ".py",
   "mimetype": "text/x-python",
   "name": "python",
   "nbconvert_exporter": "python",
   "pygments_lexer": "ipython3",
   "version": "3.7.3"
  }
 },
 "nbformat": 4,
 "nbformat_minor": 4
}
