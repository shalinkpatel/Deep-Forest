{
 "cells": [
  {
   "cell_type": "markdown",
   "metadata": {},
   "source": [
    "# Iris Dataset Testing"
   ]
  },
  {
   "cell_type": "code",
   "execution_count": 2,
   "metadata": {},
   "outputs": [],
   "source": [
    "import sys  \n",
    "sys.path.insert(0, '../')\n",
    "import deep_forest\n",
    "import preprocess\n",
    "import torch as th\n",
    "from torch import nn as nn\n",
    "import matplotlib.pyplot as plt\n",
    "%matplotlib inline\n",
    "from math import pi\n",
    "import seaborn as sns\n",
    "from tqdm import tqdm\n",
    "sns.set_theme(\"notebook\")\n",
    "sns.set_style('whitegrid')"
   ]
  },
  {
   "cell_type": "markdown",
   "metadata": {},
   "source": [
    "## Generate Data\n",
    "The data is the UCl iris dataset. Here, 100% of the data is used for training."
   ]
  },
  {
   "cell_type": "code",
   "execution_count": 3,
   "metadata": {},
   "outputs": [],
   "source": [
    "train_data, train_labels, test_data, test_labels = preprocess.get_data(100)"
   ]
  },
  {
   "cell_type": "markdown",
   "metadata": {},
   "source": [
    "## Deep Forest\n",
    "Here, the model is instantiated (using cuda or the CPU) and trained."
   ]
  },
  {
   "cell_type": "code",
   "execution_count": 4,
   "metadata": {},
   "outputs": [],
   "source": [
    "model = deep_forest.DeepForest(100, 2, 4, 0.5, 10)\n",
    "device = th.device(\"cuda\" if th.cuda.is_available() else \"cpu\")\n",
    "model = model.to(device)\n",
    "train_data = train_data.to(device)\n",
    "train_labels = train_labels.to(device)"
   ]
  },
  {
   "cell_type": "code",
   "execution_count": null,
   "metadata": {},
   "outputs": [
    {
     "name": "stderr",
     "output_type": "stream",
     "text": [
      "  0%|          | 0/2500 [00:00<?, ?it/s]/Users/kyranflynn/miniconda3/lib/python3.8/site-packages/torch/nn/modules/container.py:117: UserWarning: Implicit dimension choice for softmax has been deprecated. Change the call to include dim=X as an argument.\n",
      "  input = module(input)\n",
      "EPOCH 29 || Acc: tensor(0.6667) || Loss: tensor([672.3883], grad_fn=<AddBackward0>):   1%|          | 30/2500 [00:16<23:50,  1.73it/s]"
     ]
    }
   ],
   "source": [
    "optimizer = th.optim.Adam(model.parameters())\n",
    "pbar = tqdm(range(2500))\n",
    "for i in pbar:\n",
    "    model.populate_best(train_data[:, :], train_labels[:])\n",
    "    optimizer.zero_grad()\n",
    "    \n",
    "    loss = model.loss(train_data[:, :], train_labels[:], device)\n",
    "    loss.backward()\n",
    "    optimizer.step()\n",
    "\n",
    "    \n",
    "    pbar.set_description(\"EPOCH %d || Acc: %s || Loss: %s\" % (i, str(th.mean((model.forward(train_data[:, :], device) == train_labels[:]).float())), str(loss)))\n",
    "\n",
    "print(\"\\n==============\\nFINAL ACC: %s\" % str(th.mean((model.forward(train_data[:, :], device) == train_labels[:]).float())))"
   ]
  },
  {
   "cell_type": "markdown",
   "metadata": {},
   "source": [
    "# MLP Baseline\n",
    "Here, a baseline feedforward is used on thr Iris dataset for comparison."
   ]
  },
  {
   "cell_type": "code",
   "execution_count": null,
   "metadata": {},
   "outputs": [],
   "source": [
    "mlp = nn.Sequential(\n",
    "    nn.Linear(4, 15),\n",
    "    nn.LeakyReLU(),\n",
    "    nn.Linear(15, 15),\n",
    "    nn.LeakyReLU(),\n",
    "    nn.Linear(15, 3),\n",
    "    nn.Softmax()\n",
    ")\n",
    "\n",
    "optimizer = th.optim.Adam(mlp.parameters())\n",
    "for i in range(1000):\n",
    "    optimizer.zero_grad()\n",
    "\n",
    "    preds = mlp(train_data[:, :])\n",
    "    loss = nn.functional.cross_entropy(preds, (train_labels[:].type(th.LongTensor)).to(device))\n",
    "    loss.backward()\n",
    "    optimizer.step()\n",
    "\n",
    "    pbar.set_description(\"EPOCH %d || Acc: %s || Loss: %s\" % (i, str(th.mean((model.forward(train_data[:, :], device) == train_labels[:]).float())), str(loss)))\n",
    "        \n",
    "print(\"\\n==============\\nFINAL ACC: %s\" % str(th.mean((th.argmax(mlp(train_data[:]), 1) == train_labels[:]).float())))\n"
   ]
  },
  {
   "cell_type": "markdown",
   "metadata": {},
   "source": [
    "# Standard Random Forest"
   ]
  },
  {
   "cell_type": "code",
   "execution_count": null,
   "metadata": {},
   "outputs": [],
   "source": [
    "from sklearn.ensemble import RandomForestClassifier\n",
    "clf = RandomForestClassifier(max_depth=2)\n",
    "clf.fit(train_data[:, :].numpy(), train_labels[:].numpy())\n",
    "print(\"Accuracy: \" + clf.score(train_data[:, :].numpy(), train_labels[:].numpy()))"
   ]
  }
 ],
 "metadata": {
  "kernelspec": {
   "display_name": "Python 3",
   "language": "python",
   "name": "python3"
  },
  "language_info": {
   "codemirror_mode": {
    "name": "ipython",
    "version": 3
   },
   "file_extension": ".py",
   "mimetype": "text/x-python",
   "name": "python",
   "nbconvert_exporter": "python",
   "pygments_lexer": "ipython3",
   "version": "3.8.3"
  }
 },
 "nbformat": 4,
 "nbformat_minor": 4
}
