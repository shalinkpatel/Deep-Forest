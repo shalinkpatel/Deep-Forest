{
 "cells": [
  {
   "cell_type": "markdown",
   "metadata": {},
   "source": [
    "# Breast Dataset"
   ]
  },
  {
   "cell_type": "code",
   "execution_count": 1,
   "metadata": {},
   "outputs": [],
   "source": [
    "import sys  \n",
    "sys.path.insert(0, '../')\n",
    "import deep_forest\n",
    "import preprocess\n",
    "import torch as th\n",
    "from torch import nn as nn\n",
    "import matplotlib.pyplot as plt\n",
    "%matplotlib inline\n",
    "from math import pi\n",
    "import seaborn as sns\n",
    "from tqdm import tqdm\n",
    "sns.set_theme(\"notebook\")\n",
    "sns.set_style('whitegrid')"
   ]
  },
  {
   "cell_type": "markdown",
   "metadata": {},
   "source": [
    "## Generate Data"
   ]
  },
  {
   "cell_type": "code",
   "execution_count": 2,
   "metadata": {},
   "outputs": [],
   "source": [
    "x, y, _, _ = preprocess.get_data(100)"
   ]
  },
  {
   "cell_type": "markdown",
   "metadata": {},
   "source": [
    "## Deep Forest"
   ]
  },
  {
   "cell_type": "code",
   "execution_count": 3,
   "metadata": {},
   "outputs": [],
   "source": [
    "model = deep_forest.DeepForest(100, 2, 30, 0.25, 10)\n",
    "device = th.device(\"cuda\" if th.cuda.is_available() else \"cpu\")\n",
    "model = model.to(device)\n",
    "x = x.to(device)\n",
    "y = y.to(device)"
   ]
  },
  {
   "cell_type": "code",
   "execution_count": 4,
   "metadata": {},
   "outputs": [
    {
     "name": "stderr",
     "output_type": "stream",
     "text": [
      "  0%|          | 0/2500 [00:00<?, ?it/s]Implicit dimension choice for softmax has been deprecated. Change the call to include dim=X as an argument.\n",
      "EPOCH 2499 || Acc: tensor(0.9789) || Loss: tensor([292.2313], grad_fn=<AddBackward0>): 100%|██████████| 2500/2500 [41:31<00:00,  1.00it/s]"
     ]
    },
    {
     "name": "stdout",
     "output_type": "stream",
     "text": [
      "\n",
      "\n",
      "==============\n",
      "FINAL ACC: tensor(0.9789)\n"
     ]
    },
    {
     "name": "stderr",
     "output_type": "stream",
     "text": [
      "\n"
     ]
    }
   ],
   "source": [
    "optimizer = th.optim.Adam(model.parameters())\n",
    "pbar = tqdm(range(2500))\n",
    "for i in pbar:\n",
    "    model.populate_best(x[:, :], y[:])\n",
    "    optimizer.zero_grad()\n",
    "\n",
    "    loss = model.loss(x[:, :], y[:], device)\n",
    "    loss.backward()\n",
    "    optimizer.step()\n",
    "\n",
    "    pbar.set_description(\"EPOCH %d || Acc: %s || Loss: %s\" % (i, str(th.mean((model.forward(x[:, :], device) == y[:]).float())), str(loss)))\n",
    "\n",
    "print(\"\\n\\n==============\\nFINAL ACC: %s\" % str(th.mean((model.forward(x[:, :], device) == y[:]).float())))"
   ]
  },
  {
   "cell_type": "code",
   "execution_count": 5,
   "metadata": {},
   "outputs": [
    {
     "name": "stderr",
     "output_type": "stream",
     "text": [
      "100%|██████████| 100/100 [07:54<00:00,  4.74s/it]"
     ]
    },
    {
     "name": "stdout",
     "output_type": "stream",
     "text": [
      "\n",
      "defaultdict(<function DeepForest.__init__.<locals>.<lambda> at 0x7fab48b552f0>, {6: 0.02813572820679641, 17: 0.0028606337854497196, 4: 0.0017406404367935858, 20: 0.089362021364029, 2: 0.10287282299483139, 27: 0.025708718258940513, 26: 0.029797935794141965, 8: 0.002710275561611711, 10: 0.026266647696560858, 11: 0.008274821380290103, 12: 0.027425102584825355, 28: 0.008712480710909446, 16: 0.0035584697849436625, 22: 0.0768191575027144, 7: 0.016456269086300192, 5: 0.009686612048724884, 9: 0.002615765833087783, 14: 0.0004827227331916703, 25: 0.014430556393122105, 21: 0.02594545817884116, 1: 0.009992552011038769, 24: 0.006270752672345851, 15: 0.003962658138382597, 29: 0.0020787116239987897, 18: 0.0013862299237403133, 19: 0.0013504927303384414, 0: 0.07282489532452559, 13: 0.05626899407742721, 23: 0.1944017384212526, 3: 0.14760013474084402})\n"
     ]
    },
    {
     "name": "stderr",
     "output_type": "stream",
     "text": [
      "\n"
     ]
    }
   ],
   "source": [
    "imp = model.compute_importance(x)\n",
    "print()\n",
    "print(imp)"
   ]
  },
  {
   "cell_type": "code",
   "execution_count": 10,
   "metadata": {},
   "outputs": [
    {
     "data": {
      "text/plain": [
       "Text(0.5, 1.0, 'Breast Deep Forest Importance')"
      ]
     },
     "execution_count": 10,
     "metadata": {},
     "output_type": "execute_result"
    },
    {
     "data": {
      "image/png": "[encoded data removed]",
      "text/plain": [
       "<Figure size 432x288 with 1 Axes>"
      ]
     },
     "metadata": {},
     "output_type": "display_data"
    }
   ],
   "source": [
    "import pandas as pd\n",
    "data = pd.DataFrame({\"feat\": list(imp.keys()), \"imp\": list(imp.values())})\n",
    "sns.barplot(x=\"feat\", y=\"imp\", data=data).set_title(\"Breast Deep Forest Importance\")"
   ]
  },
  {
   "cell_type": "markdown",
   "metadata": {},
   "source": [
    "## MLP Baseline"
   ]
  },
  {
   "cell_type": "code",
   "execution_count": 7,
   "metadata": {},
   "outputs": [
    {
     "name": "stderr",
     "output_type": "stream",
     "text": [
      "  0%|          | 0/1000 [00:00<?, ?it/s]Implicit dimension choice for softmax has been deprecated. Change the call to include dim=X as an argument.\n",
      "EPOCH 999 || Acc: tensor(0.6274) || Loss: tensor(0.6858, grad_fn=<NllLossBackward>): 100%|██████████| 1000/1000 [00:06<00:00, 155.20it/s]"
     ]
    },
    {
     "name": "stdout",
     "output_type": "stream",
     "text": [
      "\n",
      "\n",
      "==============\n",
      "FINAL ACC: tensor(0.6274)\n"
     ]
    },
    {
     "name": "stderr",
     "output_type": "stream",
     "text": [
      "\n"
     ]
    }
   ],
   "source": [
    "mlp = nn.Sequential(\n",
    "    nn.Linear(30, 100),\n",
    "    nn.LeakyReLU(),\n",
    "    nn.Linear(100, 25),\n",
    "    nn.LeakyReLU(),\n",
    "    nn.Linear(25, 2),\n",
    "    nn.Softmax()\n",
    ")\n",
    "\n",
    "optimizer = th.optim.Adam(mlp.parameters())\n",
    "pbar = tqdm(range(1000))\n",
    "for i in pbar:\n",
    "    optimizer.zero_grad()\n",
    "\n",
    "    preds = mlp(x)\n",
    "    loss = nn.functional.cross_entropy(preds, y)\n",
    "    loss.backward()\n",
    "    optimizer.step()\n",
    "\n",
    "    pbar.set_description(\"EPOCH %d || Acc: %s || Loss: %s\" % (i, str(th.mean((th.argmax(mlp(x), 1) == y).float())), str(loss)))\n",
    "\n",
    "print(\"\\n\\n==============\\nFINAL ACC: %s\" % str(th.mean((th.argmax(mlp(x[:]), 1) == y[:]).float())))"
   ]
  },
  {
   "cell_type": "markdown",
   "metadata": {},
   "source": [
    "## Random Forest"
   ]
  },
  {
   "cell_type": "code",
   "execution_count": 8,
   "metadata": {},
   "outputs": [
    {
     "name": "stdout",
     "output_type": "stream",
     "text": [
      "0.9648506151142355\n"
     ]
    }
   ],
   "source": [
    "from sklearn.ensemble import RandomForestClassifier\n",
    "clf = RandomForestClassifier(max_depth=2)\n",
    "clf.fit(x[:, :].numpy(), y[:].numpy())\n",
    "print(clf.score(x[:, :].numpy(), y[:].numpy()))"
   ]
  },
  {
   "cell_type": "code",
   "execution_count": 11,
   "metadata": {},
   "outputs": [
    {
     "data": {
      "text/plain": [
       "Text(0.5, 1.0, 'Breast Random Forest Importance')"
      ]
     },
     "execution_count": 11,
     "metadata": {},
     "output_type": "execute_result"
    },
    {
     "data": {
      "image/png": "[encoded data removed]",
      "text/plain": [
       "<Figure size 432x288 with 1 Axes>"
      ]
     },
     "metadata": {},
     "output_type": "display_data"
    }
   ],
   "source": [
    "data = pd.DataFrame({\"feat\": list(range(30)), \"imp\": clf.feature_importances_})\n",
    "sns.barplot(x=\"feat\", y=\"imp\", data=data).set_title(\"Breast Random Forest Importance\")"
   ]
  }
 ],
 "metadata": {
  "kernelspec": {
   "display_name": "Python 3",
   "language": "python",
   "name": "python3"
  },
  "language_info": {
   "codemirror_mode": {
    "name": "ipython",
    "version": 3
   },
   "file_extension": ".py",
   "mimetype": "text/x-python",
   "name": "python",
   "nbconvert_exporter": "python",
   "pygments_lexer": "ipython3",
   "version": "3.7.3"
  }
 },
 "nbformat": 4,
 "nbformat_minor": 4
}
