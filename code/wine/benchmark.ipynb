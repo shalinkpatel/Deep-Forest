{
 "cells": [
  {
   "cell_type": "markdown",
   "metadata": {},
   "source": [
    "# Wine Dataset"
   ]
  },
  {
   "cell_type": "code",
   "execution_count": 1,
   "metadata": {},
   "outputs": [],
   "source": [
    "import sys  \n",
    "sys.path.insert(0, '../')\n",
    "import deep_forest\n",
    "import torch as th\n",
    "from torch import nn as nn\n",
    "import matplotlib.pyplot as plt\n",
    "%matplotlib inline\n",
    "from math import pi\n",
    "import seaborn as sns\n",
    "from preprocess import get_data\n",
    "from tqdm import tqdm\n",
    "sns.set_theme(\"notebook\")\n",
    "sns.set_style('whitegrid')"
   ]
  },
  {
   "cell_type": "markdown",
   "metadata": {},
   "source": [
    "## Get Data"
   ]
  },
  {
   "cell_type": "code",
   "execution_count": 2,
   "metadata": {},
   "outputs": [],
   "source": [
    "x, y, test_data, test_labels = get_data(100)"
   ]
  },
  {
   "cell_type": "markdown",
   "metadata": {},
   "source": [
    "## Deep Forest"
   ]
  },
  {
   "cell_type": "code",
   "execution_count": 3,
   "metadata": {},
   "outputs": [],
   "source": [
    "model = deep_forest.DeepForest(100, 2, 13, 0.25, 10)"
   ]
  },
  {
   "cell_type": "code",
   "execution_count": 4,
   "metadata": {},
   "outputs": [
    {
     "name": "stderr",
     "output_type": "stream",
     "text": [
      "Implicit dimension choice for softmax has been deprecated. Change the call to include dim=X as an argument.\n"
     ]
    },
    {
     "name": "stdout",
     "output_type": "stream",
     "text": [
      "CPU times: user 1.1 s, sys: 250 ms, total: 1.35 s\n",
      "Wall time: 5min 6s\n",
      "\n",
      "==============\n",
      "FINAL ACC: tensor(0.9888)\n"
     ]
    }
   ],
   "source": [
    "%time model.train(2500, x, y)\n",
    "print(\"\\n==============\\nFINAL ACC: %s\" % str(th.mean((model.forward(model.trees,x) == y).float())))"
   ]
  },
  {
   "cell_type": "code",
   "execution_count": 5,
   "metadata": {},
   "outputs": [
    {
     "name": "stderr",
     "output_type": "stream",
     "text": [
      "100%|██████████| 104/104 [09:41<00:00,  5.59s/it]"
     ]
    },
    {
     "name": "stdout",
     "output_type": "stream",
     "text": [
      "\n",
      "{9: 0.12901911569299418, 7: 0.03413732082112822, 2: 0.03831516656357483, 0: 0.08113110757896909, 12: 0.07172012822735166, 5: 0.06886415652787505, 8: 0.04768183681479027, 4: 0.029762313880724766, 6: 0.17244891937497925, 1: 0.10225636144755837, 3: 0.08371447872179655, 10: 0.05330732668144722, 11: 0.08764176766681057}\n"
     ]
    },
    {
     "name": "stderr",
     "output_type": "stream",
     "text": [
      "\n"
     ]
    }
   ],
   "source": [
    "imp = model.compute_importance(x)\n",
    "print()\n",
    "print(dict(imp))"
   ]
  },
  {
   "cell_type": "code",
   "execution_count": 6,
   "metadata": {},
   "outputs": [
    {
     "data": {
      "text/plain": [
       "Text(0.5, 1.0, 'Wine Deep Forest Importance')"
      ]
     },
     "execution_count": 6,
     "metadata": {},
     "output_type": "execute_result"
    },
    {
     "data": {
      "image/png": "[encoded data removed]",
      "text/plain": [
       "<Figure size 432x288 with 1 Axes>"
      ]
     },
     "metadata": {},
     "output_type": "display_data"
    }
   ],
   "source": [
    "import pandas as pd\n",
    "data = pd.DataFrame({\"feat\": list(imp.keys()), \"imp\": list(imp.values())})\n",
    "sns.barplot(x=\"feat\", y=\"imp\", data=data).set_title(\"Wine Deep Forest Importance\")"
   ]
  },
  {
   "cell_type": "markdown",
   "metadata": {},
   "source": [
    "## MLP Baseline"
   ]
  },
  {
   "cell_type": "code",
   "execution_count": 7,
   "metadata": {},
   "outputs": [
    {
     "name": "stderr",
     "output_type": "stream",
     "text": [
      "  0%|          | 0/1000 [00:00<?, ?it/s]Implicit dimension choice for softmax has been deprecated. Change the call to include dim=X as an argument.\n",
      "EPOCH 999 || Acc: tensor(0.6629) || Loss: tensor(0.8808, grad_fn=<NllLossBackward>): 100%|██████████| 1000/1000 [00:33<00:00, 30.04it/s]"
     ]
    },
    {
     "name": "stdout",
     "output_type": "stream",
     "text": [
      "\n",
      "\n",
      "==============\n",
      "FINAL ACC: tensor(0.6629)\n"
     ]
    },
    {
     "name": "stderr",
     "output_type": "stream",
     "text": [
      "\n"
     ]
    }
   ],
   "source": [
    "mlp = nn.Sequential(\n",
    "    nn.Linear(13, 30),\n",
    "    nn.LeakyReLU(),\n",
    "    nn.Linear(30, 15),\n",
    "    nn.LeakyReLU(),\n",
    "    nn.Linear(15, 3),\n",
    "    nn.Softmax()\n",
    ")\n",
    "\n",
    "optimizer = th.optim.Adam(mlp.parameters())\n",
    "pbar = tqdm(range(1000))\n",
    "for i in pbar:\n",
    "    optimizer.zero_grad()\n",
    "\n",
    "    preds = mlp(x)\n",
    "    loss = nn.functional.cross_entropy(preds, y)\n",
    "    loss.backward()\n",
    "    optimizer.step()\n",
    "\n",
    "    pbar.set_description(\"EPOCH %d || Acc: %s || Loss: %s\" % (i, str(th.mean((th.argmax(mlp(x), 1) == y).float())), str(loss)))\n",
    "\n",
    "print(\"\\n\\n==============\\nFINAL ACC: %s\" % str(th.mean((th.argmax(mlp(x[:]), 1) == y[:]).float())))"
   ]
  },
  {
   "cell_type": "markdown",
   "metadata": {},
   "source": [
    "## Random Forest"
   ]
  },
  {
   "cell_type": "code",
   "execution_count": 8,
   "metadata": {},
   "outputs": [
    {
     "name": "stdout",
     "output_type": "stream",
     "text": [
      "0.9831460674157303\n"
     ]
    }
   ],
   "source": [
    "from sklearn.ensemble import RandomForestClassifier\n",
    "clf = RandomForestClassifier(max_depth=2)\n",
    "clf.fit(x.numpy(), y.numpy())\n",
    "print(clf.score(x.numpy(), y.numpy()))"
   ]
  },
  {
   "cell_type": "code",
   "execution_count": 9,
   "metadata": {},
   "outputs": [
    {
     "data": {
      "text/plain": [
       "Text(0.5, 1.0, 'Wine Random Forest Importance')"
      ]
     },
     "execution_count": 9,
     "metadata": {},
     "output_type": "execute_result"
    },
    {
     "data": {
      "image/png": "[encoded data removed]",
      "text/plain": [
       "<Figure size 432x288 with 1 Axes>"
      ]
     },
     "metadata": {},
     "output_type": "display_data"
    }
   ],
   "source": [
    "data = pd.DataFrame({\"feat\": list(range(13)), \"imp\": clf.feature_importances_})\n",
    "sns.barplot(x=\"feat\", y=\"imp\", data=data).set_title(\"Wine Random Forest Importance\")"
   ]
  }
 ],
 "metadata": {
  "kernelspec": {
   "display_name": "Python 3",
   "language": "python",
   "name": "python3"
  },
  "language_info": {
   "codemirror_mode": {
    "name": "ipython",
    "version": 3
   },
   "file_extension": ".py",
   "mimetype": "text/x-python",
   "name": "python",
   "nbconvert_exporter": "python",
   "pygments_lexer": "ipython3",
   "version": "3.8.5"
  }
 },
 "nbformat": 4,
 "nbformat_minor": 4
}
